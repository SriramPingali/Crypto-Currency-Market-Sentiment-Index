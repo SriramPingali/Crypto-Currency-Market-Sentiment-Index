{
 "cells": [
  {
   "cell_type": "code",
   "execution_count": 1,
   "id": "3b22168d-cdca-4d56-9c5c-cde74997540e",
   "metadata": {},
   "outputs": [],
   "source": [
    "import os\n",
    "import tweepy as tw\n",
    "import pandas as pd"
   ]
  },
  {
   "cell_type": "code",
   "execution_count": 2,
   "id": "d0adc51d-7e58-4a46-a8f8-fb3b0ab037f0",
   "metadata": {},
   "outputs": [],
   "source": [
    "consumer_key= '9YBSDoBodTvyMD8E1D8X6n3Zy'\n",
    "consumer_secret= 'zKVr7sPcRB8JjruuRJaE5L6qokg65CCfV3Xwa6VKbBizyzWJKd'\n",
    "access_token= '1087232408569683968-jmsJZ5S4UIj0MEw6PhvDs9RgN9Qy81'\n",
    "access_token_secret= 'Ln9Gq72vn1D4tkirbCPKC0PK6Y1FBzikkQh1IcGb1EVrA'"
   ]
  },
  {
   "cell_type": "code",
   "execution_count": 3,
   "id": "6ca536bd-691b-4502-b607-afba7ee6c292",
   "metadata": {},
   "outputs": [],
   "source": [
    "auth = tw.OAuthHandler(consumer_key, consumer_secret)\n",
    "auth.set_access_token(access_token, access_token_secret)\n",
    "api = tw.API(auth, wait_on_rate_limit=True)"
   ]
  },
  {
   "cell_type": "code",
   "execution_count": 4,
   "id": "d8e00794-1469-47ad-8a87-f7ed09b0271e",
   "metadata": {},
   "outputs": [],
   "source": [
    "# Define the search term and the date_since date as variables\n",
    "search_words = \"#bitcoin -filter:retweets\"\n",
    "date_since = \"2018-11-16\""
   ]
  },
  {
   "cell_type": "code",
   "execution_count": 5,
   "id": "03b113d7-dd51-455d-9867-e447e63271e5",
   "metadata": {},
   "outputs": [],
   "source": [
    "# Collect tweets\n",
    "tweets = tw.Cursor(api.search_tweets,\n",
    "              q=search_words,\n",
    "              lang=\"en\").items(10)"
   ]
  },
  {
   "cell_type": "code",
   "execution_count": 6,
   "id": "be3447b9-6159-43f3-8474-77ed82847b7e",
   "metadata": {},
   "outputs": [
    {
     "name": "stderr",
     "output_type": "stream",
     "text": [
      "Unexpected parameter: since\n",
      "Unexpected parameter: since\n"
     ]
    },
    {
     "name": "stdout",
     "output_type": "stream",
     "text": [
      "Head &amp; shoulders forming on H4. Bearish Price action with breakdown/retest \n",
      "\n",
      "All this low volume is just setting up… https://t.co/1RqkjAI44l\n",
      "----------------------------------------------------------\n",
      "🐋\n",
      "345 #BTC (13.093.775 USD) will be transfered from unknown wallet to unknown address (never used before)\n",
      "\n",
      "https://t.co/4YFNrMvRTQ\n",
      "#bitcoin\n",
      "----------------------------------------------------------\n",
      "$LIT Hits 1st Target 🎯 With 15% Profit (5X Leverage)\n",
      "\n",
      "#Bitcoin #Binance #NFTs $BNB $ETH #Solana $SHIB $ENJ $SLC… https://t.co/O2asa9YOL5\n",
      "----------------------------------------------------------\n",
      "GameStop Partners With Immutable X to Launch NFT Marketplace\n",
      "#instablockchain #cryptocurrency #bitcoin #ethereum… https://t.co/qNFycS10tz\n",
      "----------------------------------------------------------\n",
      "👀 $BTC #BITCOIN \n",
      "\n",
      "Back above $38K https://t.co/D3cjGvkx82\n",
      "----------------------------------------------------------\n",
      "#Markets #Bitcoin #BitcoinAnalysis #BitcoinNews BTC Price Predictions: $90k in 2022 and $406k by 2030… https://t.co/DBzPSG5UU1\n",
      "----------------------------------------------------------\n",
      "@GoingParabolic and thats when the US will activate the #xrp weapon\n",
      "that they have been secretly worked with @Ripple \n",
      "\n",
      "#crypto #bitcoin\n",
      "----------------------------------------------------------\n",
      "The $BTC price is at $37,962.7 right now.\n",
      "🟢 Compared to the last tweet, the price has increased by $61.9 (0.16%).\n",
      "🟢… https://t.co/5gMKQ1xmld\n",
      "----------------------------------------------------------\n",
      "#Bitcoin #fromcoindesk Crypto miners are starting the new year by increasing their accumula...… https://t.co/ITMRixFwah\n",
      "----------------------------------------------------------\n",
      "Tezos scores $27M deal with Man United, Baby Doge backs\n",
      "Hoffenheim   https://t.co/GhMkSnzKjw   #Bitcoin\n",
      "----------------------------------------------------------\n"
     ]
    }
   ],
   "source": [
    "for tweet in tweets:\n",
    "    print(tweet.text)\n",
    "    print(\"----------------------------------------------------------\")"
   ]
  },
  {
   "cell_type": "code",
   "execution_count": null,
   "id": "965de695-02ae-4060-9ed1-51a9bab7c63b",
   "metadata": {},
   "outputs": [],
   "source": []
  }
 ],
 "metadata": {
  "kernelspec": {
   "display_name": "Python 3 (ipykernel)",
   "language": "python",
   "name": "python3"
  },
  "language_info": {
   "codemirror_mode": {
    "name": "ipython",
    "version": 3
   },
   "file_extension": ".py",
   "mimetype": "text/x-python",
   "name": "python",
   "nbconvert_exporter": "python",
   "pygments_lexer": "ipython3",
   "version": "3.7.10"
  }
 },
 "nbformat": 4,
 "nbformat_minor": 5
}
