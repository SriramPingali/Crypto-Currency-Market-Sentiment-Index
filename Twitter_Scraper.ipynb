{
 "cells": [
  {
   "cell_type": "code",
   "execution_count": 1,
   "id": "3b22168d-cdca-4d56-9c5c-cde74997540e",
   "metadata": {},
   "outputs": [],
   "source": [
    "import os\n",
    "import tweepy as tw\n",
    "import pandas as pd"
   ]
  },
  {
   "cell_type": "code",
   "execution_count": 2,
   "id": "d0adc51d-7e58-4a46-a8f8-fb3b0ab037f0",
   "metadata": {},
   "outputs": [],
   "source": [
    "consumer_key= ''\n",
    "consumer_secret= ''\n",
    "access_token= ''\n",
    "access_token_secret= ''"
   ]
  },
  {
   "cell_type": "code",
   "execution_count": 3,
   "id": "6ca536bd-691b-4502-b607-afba7ee6c292",
   "metadata": {},
   "outputs": [],
   "source": [
    "auth = tw.OAuthHandler(consumer_key, consumer_secret)\n",
    "auth.set_access_token(access_token, access_token_secret)\n",
    "api = tw.API(auth, wait_on_rate_limit=True)"
   ]
  },
  {
   "cell_type": "code",
   "execution_count": 4,
   "id": "d8e00794-1469-47ad-8a87-f7ed09b0271e",
   "metadata": {},
   "outputs": [],
   "source": [
    "# Define the search term and the date_since date as variables\n",
    "search_words = \"#bitcoin\"\n",
    "date_since = \"2018-11-16\""
   ]
  },
  {
   "cell_type": "code",
   "execution_count": 5,
   "id": "1aa19d00-c771-4538-8ab3-d9800623cffd",
   "metadata": {},
   "outputs": [],
   "source": [
    "# tweets = tw.Cursor(api.search_tweets,\n",
    "#             q=search_words,\n",
    "#             lang=\"en\",\n",
    "#             until = \"2022-01-30\").items(30)"
   ]
  },
  {
   "cell_type": "code",
   "execution_count": 6,
   "id": "e87333e7-34ae-4561-9fd5-2333b4143a41",
   "metadata": {},
   "outputs": [],
   "source": [
    "tweets = api.search_full_archive(\n",
    "                label = \"sriram\",\n",
    "                query = search_words)"
   ]
  },
  {
   "cell_type": "code",
   "execution_count": 7,
   "id": "be3447b9-6159-43f3-8474-77ed82847b7e",
   "metadata": {},
   "outputs": [],
   "source": [
    "data = []\n",
    "for tweet in tweets:\n",
    "    data.append([tweet.text, tweet.created_at])\n",
    "\n",
    "pd.DataFrame(data).to_csv(\"./Data.csv\")"
   ]
  },
  {
   "cell_type": "code",
   "execution_count": null,
   "id": "965de695-02ae-4060-9ed1-51a9bab7c63b",
   "metadata": {},
   "outputs": [],
   "source": []
  }
 ],
 "metadata": {
  "kernelspec": {
   "display_name": "Python 3 (ipykernel)",
   "language": "python",
   "name": "python3"
  },
  "language_info": {
   "codemirror_mode": {
    "name": "ipython",
    "version": 3
   },
   "file_extension": ".py",
   "mimetype": "text/x-python",
   "name": "python",
   "nbconvert_exporter": "python",
   "pygments_lexer": "ipython3",
   "version": "3.7.10"
  }
 },
 "nbformat": 4,
 "nbformat_minor": 5
}
